{
 "cells": [
  {
   "cell_type": "markdown",
   "metadata": {},
   "source": [
    "# Two transporters problem"
   ]
  },
  {
   "cell_type": "code",
   "execution_count": 1,
   "metadata": {},
   "outputs": [],
   "source": [
    "import pandas as pd\n",
    "from pulp import *\n",
    "# pip install odfpy "
   ]
  },
  {
   "cell_type": "markdown",
   "metadata": {},
   "source": [
    "### Load the information about the products we want to transport"
   ]
  },
  {
   "cell_type": "code",
   "execution_count": 2,
   "metadata": {},
   "outputs": [],
   "source": [
    "df = pd.read_excel(\"pdf_data.ods\",\n",
    "                  engine=\"odf\", \n",
    "                  sheet_name=\"Sheet2\"\n",
    "                 )"
   ]
  },
  {
   "cell_type": "code",
   "execution_count": 3,
   "metadata": {},
   "outputs": [
    {
     "data": {
      "text/html": [
       "<div>\n",
       "<style scoped>\n",
       "    .dataframe tbody tr th:only-of-type {\n",
       "        vertical-align: middle;\n",
       "    }\n",
       "\n",
       "    .dataframe tbody tr th {\n",
       "        vertical-align: top;\n",
       "    }\n",
       "\n",
       "    .dataframe thead th {\n",
       "        text-align: right;\n",
       "    }\n",
       "</style>\n",
       "<table border=\"1\" class=\"dataframe\">\n",
       "  <thead>\n",
       "    <tr style=\"text-align: right;\">\n",
       "      <th></th>\n",
       "      <th>Hardwarebenötigte</th>\n",
       "      <th>Anzahl Einheiten in Bonn</th>\n",
       "      <th>Gewicht (mit Verpackung und Zubehör), in g</th>\n",
       "      <th>Nutzwert je Hardware-Einheit (hoch=besser)</th>\n",
       "    </tr>\n",
       "  </thead>\n",
       "  <tbody>\n",
       "    <tr>\n",
       "      <th>0</th>\n",
       "      <td>Notebook Büro 13\"</td>\n",
       "      <td>205</td>\n",
       "      <td>2451</td>\n",
       "      <td>40</td>\n",
       "    </tr>\n",
       "    <tr>\n",
       "      <th>1</th>\n",
       "      <td>Notebook Büro 14\"</td>\n",
       "      <td>420</td>\n",
       "      <td>2978</td>\n",
       "      <td>35</td>\n",
       "    </tr>\n",
       "    <tr>\n",
       "      <th>2</th>\n",
       "      <td>Notebook outdoor</td>\n",
       "      <td>450</td>\n",
       "      <td>3625</td>\n",
       "      <td>80</td>\n",
       "    </tr>\n",
       "    <tr>\n",
       "      <th>3</th>\n",
       "      <td>Mobiltelefon Büro</td>\n",
       "      <td>60</td>\n",
       "      <td>717</td>\n",
       "      <td>30</td>\n",
       "    </tr>\n",
       "    <tr>\n",
       "      <th>4</th>\n",
       "      <td>Mobiltelefon Outdoor</td>\n",
       "      <td>157</td>\n",
       "      <td>988</td>\n",
       "      <td>60</td>\n",
       "    </tr>\n",
       "  </tbody>\n",
       "</table>\n",
       "</div>"
      ],
      "text/plain": [
       "      Hardwarebenötigte   Anzahl Einheiten in Bonn  \\\n",
       "0     Notebook Büro 13\"                        205   \n",
       "1     Notebook Büro 14\"                        420   \n",
       "2      Notebook outdoor                        450   \n",
       "3     Mobiltelefon Büro                         60   \n",
       "4  Mobiltelefon Outdoor                        157   \n",
       "\n",
       "   Gewicht (mit Verpackung und Zubehör), in g  \\\n",
       "0                                        2451   \n",
       "1                                        2978   \n",
       "2                                        3625   \n",
       "3                                         717   \n",
       "4                                         988   \n",
       "\n",
       "   Nutzwert je Hardware-Einheit (hoch=besser)  \n",
       "0                                          40  \n",
       "1                                          35  \n",
       "2                                          80  \n",
       "3                                          30  \n",
       "4                                          60  "
      ]
     },
     "execution_count": 3,
     "metadata": {},
     "output_type": "execute_result"
    }
   ],
   "source": [
    "df.head()"
   ]
  },
  {
   "cell_type": "code",
   "execution_count": 4,
   "metadata": {},
   "outputs": [],
   "source": [
    "products = list(df['Hardwarebenötigte '])"
   ]
  },
  {
   "cell_type": "code",
   "execution_count": 5,
   "metadata": {},
   "outputs": [],
   "source": [
    "weights = dict(\n",
    "    zip(products,df['Gewicht (mit Verpackung und Zubehör), in g'])\n",
    ")\n",
    "capacities = dict(zip(products, list(df['Anzahl Einheiten in Bonn'])))\n"
   ]
  },
  {
   "cell_type": "code",
   "execution_count": 6,
   "metadata": {},
   "outputs": [],
   "source": [
    "values = dict(zip(products,df['Nutzwert je Hardware-Einheit (hoch=besser)']))"
   ]
  },
  {
   "cell_type": "markdown",
   "metadata": {},
   "source": [
    "## Let's define the linear programmation problem"
   ]
  },
  {
   "cell_type": "code",
   "execution_count": 7,
   "metadata": {},
   "outputs": [],
   "source": [
    "prob = LpProblem(\"Problem\",LpMaximize)"
   ]
  },
  {
   "cell_type": "markdown",
   "metadata": {},
   "source": [
    "Here we define the problem varaibles: $x_{11}, \\dots ,x_{P1}, x_{12}, \\dots ,x_{P2} $ that correspond to the amount transported for product $p$ with the truck $t$ 1 or 2.\n",
    "the lower bound is set to zero because it is impossible to transport a negative amount of a product\n",
    "\n",
    "$\\forall p \\in products, t \\in \\{1, 2\\}, x_{pt}\\geq0$"
   ]
  },
  {
   "cell_type": "code",
   "execution_count": 8,
   "metadata": {},
   "outputs": [],
   "source": [
    "Transporter1 = LpVariable.dicts(\n",
    "    name='Transporter1', \n",
    "    indexs=products, \n",
    "    lowBound=0,\n",
    "    cat='Integer')\n",
    "\n",
    "Transporter2 = LpVariable.dicts(\n",
    "    name='Transporter2', \n",
    "    indexs=products, \n",
    "    lowBound=0,\n",
    "    cat='Integer')"
   ]
  },
  {
   "cell_type": "markdown",
   "metadata": {},
   "source": [
    "Here we define the objective function f to maximize\n",
    "$f =   \\sum_{p} v_p \\times (x_{p1} + x_{p2})$"
   ]
  },
  {
   "cell_type": "code",
   "execution_count": 9,
   "metadata": {},
   "outputs": [],
   "source": [
    "prob += lpSum([\n",
    "    values[p]*(Transporter1[p] + Transporter2[p]) for p in products\n",
    "]) #objective function"
   ]
  },
  {
   "cell_type": "markdown",
   "metadata": {},
   "source": [
    "here we define the upper bound of the capacities linked to the number of products there is in storage $s$ in Bonn\n",
    "\n",
    "$\\forall p \\in products, x_{p1}+x_{p2} \\leq s_p$"
   ]
  },
  {
   "cell_type": "code",
   "execution_count": 10,
   "metadata": {},
   "outputs": [],
   "source": [
    "for p in products:\n",
    "    prob += Transporter1[p]+Transporter2[p] <= capacities[p]"
   ]
  },
  {
   "cell_type": "markdown",
   "metadata": {},
   "source": [
    "we can define the constrains linked to the truck maximum weight capacity $C = 1100000 g$\n",
    "\n",
    "$\\sum_p w_p \\times x_{p1} \\leq C - 72400$\n",
    "\n",
    "$\\sum_p w_p \\times x_{p2} \\leq C - 85700$"
   ]
  },
  {
   "cell_type": "code",
   "execution_count": 11,
   "metadata": {},
   "outputs": [],
   "source": [
    "#the weight of the trucks limit\n",
    "prob += lpSum([weights[p]*Transporter1[p] for p in products])<=(1100*1000 - 72400)\n",
    "prob += lpSum([weights[p]*Transporter2[p] for p in products])<=(1100*1000 - 85700) "
   ]
  },
  {
   "cell_type": "code",
   "execution_count": 12,
   "metadata": {},
   "outputs": [
    {
     "data": {
      "text/plain": [
       "[Transporter1_Mobiltelefon_Büro_,\n",
       " Transporter1_Mobiltelefon_Heavy_Duty_,\n",
       " Transporter1_Mobiltelefon_Outdoor_,\n",
       " Transporter1_Notebook_Büro_13\"_,\n",
       " Transporter1_Notebook_Büro_14\"_,\n",
       " Transporter1_Notebook_outdoor_,\n",
       " Transporter1_Tablet_Büro_groß_,\n",
       " Transporter1_Tablet_Büro_klein_,\n",
       " Transporter1_Tablet_outdoor_groß_,\n",
       " Transporter1_Tablet_outdoor_klein_,\n",
       " Transporter2_Mobiltelefon_Büro_,\n",
       " Transporter2_Mobiltelefon_Heavy_Duty_,\n",
       " Transporter2_Mobiltelefon_Outdoor_,\n",
       " Transporter2_Notebook_Büro_13\"_,\n",
       " Transporter2_Notebook_Büro_14\"_,\n",
       " Transporter2_Notebook_outdoor_,\n",
       " Transporter2_Tablet_Büro_groß_,\n",
       " Transporter2_Tablet_Büro_klein_,\n",
       " Transporter2_Tablet_outdoor_groß_,\n",
       " Transporter2_Tablet_outdoor_klein_]"
      ]
     },
     "execution_count": 12,
     "metadata": {},
     "output_type": "execute_result"
    }
   ],
   "source": [
    "prob.writeLP(\"Problem.lp\")"
   ]
  },
  {
   "cell_type": "markdown",
   "metadata": {},
   "source": [
    "### Let's run the solver and see if an optimal feasable solution exists"
   ]
  },
  {
   "cell_type": "code",
   "execution_count": 13,
   "metadata": {},
   "outputs": [
    {
     "name": "stdout",
     "output_type": "stream",
     "text": [
      "Status: Optimal\n"
     ]
    }
   ],
   "source": [
    "prob.solve()\n",
    "print(\"Status:\", LpStatus[prob.status])"
   ]
  },
  {
   "cell_type": "markdown",
   "metadata": {},
   "source": [
    "Therefore, the optimal usage value for only one drive is"
   ]
  },
  {
   "cell_type": "code",
   "execution_count": 14,
   "metadata": {},
   "outputs": [],
   "source": [
    "vs = [v for v in prob.variables() if v.varValue>0]"
   ]
  },
  {
   "cell_type": "code",
   "execution_count": 15,
   "metadata": {},
   "outputs": [
    {
     "data": {
      "text/html": [
       "<div>\n",
       "<style scoped>\n",
       "    .dataframe tbody tr th:only-of-type {\n",
       "        vertical-align: middle;\n",
       "    }\n",
       "\n",
       "    .dataframe tbody tr th {\n",
       "        vertical-align: top;\n",
       "    }\n",
       "\n",
       "    .dataframe thead th {\n",
       "        text-align: right;\n",
       "    }\n",
       "</style>\n",
       "<table border=\"1\" class=\"dataframe\">\n",
       "  <thead>\n",
       "    <tr style=\"text-align: right;\">\n",
       "      <th></th>\n",
       "      <th>transporter</th>\n",
       "      <th>product</th>\n",
       "      <th>quantity</th>\n",
       "    </tr>\n",
       "  </thead>\n",
       "  <tbody>\n",
       "    <tr>\n",
       "      <th>0</th>\n",
       "      <td>1</td>\n",
       "      <td>Mobiltelefon Büro</td>\n",
       "      <td>52</td>\n",
       "    </tr>\n",
       "    <tr>\n",
       "      <th>1</th>\n",
       "      <td>1</td>\n",
       "      <td>Mobiltelefon Heavy Duty</td>\n",
       "      <td>220</td>\n",
       "    </tr>\n",
       "    <tr>\n",
       "      <th>2</th>\n",
       "      <td>1</td>\n",
       "      <td>Tablet Büro klein</td>\n",
       "      <td>509</td>\n",
       "    </tr>\n",
       "    <tr>\n",
       "      <th>3</th>\n",
       "      <td>1</td>\n",
       "      <td>Tablet outdoor klein</td>\n",
       "      <td>4</td>\n",
       "    </tr>\n",
       "    <tr>\n",
       "      <th>4</th>\n",
       "      <td>2</td>\n",
       "      <td>Mobiltelefon Büro</td>\n",
       "      <td>8</td>\n",
       "    </tr>\n",
       "    <tr>\n",
       "      <th>5</th>\n",
       "      <td>2</td>\n",
       "      <td>Mobiltelefon Outdoor</td>\n",
       "      <td>157</td>\n",
       "    </tr>\n",
       "    <tr>\n",
       "      <th>6</th>\n",
       "      <td>2</td>\n",
       "      <td>Tablet Büro klein</td>\n",
       "      <td>86</td>\n",
       "    </tr>\n",
       "    <tr>\n",
       "      <th>7</th>\n",
       "      <td>2</td>\n",
       "      <td>Tablet outdoor groß</td>\n",
       "      <td>370</td>\n",
       "    </tr>\n",
       "  </tbody>\n",
       "</table>\n",
       "</div>"
      ],
      "text/plain": [
       "  transporter                  product  quantity\n",
       "0           1        Mobiltelefon Büro        52\n",
       "1           1  Mobiltelefon Heavy Duty       220\n",
       "2           1        Tablet Büro klein       509\n",
       "3           1     Tablet outdoor klein         4\n",
       "4           2        Mobiltelefon Büro         8\n",
       "5           2     Mobiltelefon Outdoor       157\n",
       "6           2        Tablet Büro klein        86\n",
       "7           2      Tablet outdoor groß       370"
      ]
     },
     "execution_count": 15,
     "metadata": {},
     "output_type": "execute_result"
    }
   ],
   "source": [
    "pd.DataFrame(data={\n",
    "    'transporter': [v.name[11] for v in vs],\n",
    "    'product': [v.name[13:-1].replace('_',' ') for v in vs],\n",
    "    'quantity': [int(v.varValue) for v in vs]\n",
    "})"
   ]
  },
  {
   "cell_type": "code",
   "execution_count": 16,
   "metadata": {},
   "outputs": [
    {
     "name": "stdout",
     "output_type": "stream",
     "text": [
      "The total usage value of this drive is: 74660.0\n"
     ]
    }
   ],
   "source": [
    "print(\"The total usage value of this drive is: {}\".format(value(prob.objective)))"
   ]
  },
  {
   "cell_type": "code",
   "execution_count": null,
   "metadata": {},
   "outputs": [],
   "source": []
  }
 ],
 "metadata": {
  "kernelspec": {
   "display_name": "Python 3.6.9 64-bit",
   "language": "python",
   "name": "python36964bit0eac3114af1f4d188020e9f5b41e4f43"
  },
  "language_info": {
   "codemirror_mode": {
    "name": "ipython",
    "version": 3
   },
   "file_extension": ".py",
   "mimetype": "text/x-python",
   "name": "python",
   "nbconvert_exporter": "python",
   "pygments_lexer": "ipython3",
   "version": "3.6.9"
  }
 },
 "nbformat": 4,
 "nbformat_minor": 4
}
