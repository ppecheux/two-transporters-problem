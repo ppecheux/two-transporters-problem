{
 "cells": [
  {
   "cell_type": "markdown",
   "metadata": {},
   "source": [
    "# Two transporters problem"
   ]
  },
  {
   "cell_type": "code",
   "execution_count": 17,
   "metadata": {},
   "outputs": [],
   "source": [
    "import pandas as pd\n",
    "from pulp import *\n",
    "# pip install odfpy "
   ]
  },
  {
   "cell_type": "markdown",
   "metadata": {},
   "source": [
    "### Load the information about the products we want to transport"
   ]
  },
  {
   "cell_type": "code",
   "execution_count": 18,
   "metadata": {},
   "outputs": [],
   "source": [
    "df = pd.read_excel(\"pdf_data.ods\",\n",
    "                  engine=\"odf\", \n",
    "                  sheet_name=\"Sheet2\"\n",
    "                 )"
   ]
  },
  {
   "cell_type": "code",
   "execution_count": 19,
   "metadata": {},
   "outputs": [
    {
     "data": {
      "text/html": [
       "<div>\n",
       "<style scoped>\n",
       "    .dataframe tbody tr th:only-of-type {\n",
       "        vertical-align: middle;\n",
       "    }\n",
       "\n",
       "    .dataframe tbody tr th {\n",
       "        vertical-align: top;\n",
       "    }\n",
       "\n",
       "    .dataframe thead th {\n",
       "        text-align: right;\n",
       "    }\n",
       "</style>\n",
       "<table border=\"1\" class=\"dataframe\">\n",
       "  <thead>\n",
       "    <tr style=\"text-align: right;\">\n",
       "      <th></th>\n",
       "      <th>Hardwarebenötigte</th>\n",
       "      <th>Anzahl Einheiten in Bonn</th>\n",
       "      <th>Gewicht (mit Verpackung und Zubehör), in g</th>\n",
       "      <th>Nutzwert je Hardware-Einheit (hoch=besser)</th>\n",
       "    </tr>\n",
       "  </thead>\n",
       "  <tbody>\n",
       "    <tr>\n",
       "      <th>0</th>\n",
       "      <td>Notebook Büro 13\"</td>\n",
       "      <td>205</td>\n",
       "      <td>2451</td>\n",
       "      <td>40</td>\n",
       "    </tr>\n",
       "    <tr>\n",
       "      <th>1</th>\n",
       "      <td>Notebook Büro 14\"</td>\n",
       "      <td>420</td>\n",
       "      <td>2978</td>\n",
       "      <td>35</td>\n",
       "    </tr>\n",
       "    <tr>\n",
       "      <th>2</th>\n",
       "      <td>Notebook outdoor</td>\n",
       "      <td>450</td>\n",
       "      <td>3625</td>\n",
       "      <td>80</td>\n",
       "    </tr>\n",
       "    <tr>\n",
       "      <th>3</th>\n",
       "      <td>Mobiltelefon Büro</td>\n",
       "      <td>60</td>\n",
       "      <td>717</td>\n",
       "      <td>30</td>\n",
       "    </tr>\n",
       "    <tr>\n",
       "      <th>4</th>\n",
       "      <td>Mobiltelefon Outdoor</td>\n",
       "      <td>157</td>\n",
       "      <td>988</td>\n",
       "      <td>60</td>\n",
       "    </tr>\n",
       "  </tbody>\n",
       "</table>\n",
       "</div>"
      ],
      "text/plain": [
       "      Hardwarebenötigte   Anzahl Einheiten in Bonn  \\\n",
       "0     Notebook Büro 13\"                        205   \n",
       "1     Notebook Büro 14\"                        420   \n",
       "2      Notebook outdoor                        450   \n",
       "3     Mobiltelefon Büro                         60   \n",
       "4  Mobiltelefon Outdoor                        157   \n",
       "\n",
       "   Gewicht (mit Verpackung und Zubehör), in g  \\\n",
       "0                                        2451   \n",
       "1                                        2978   \n",
       "2                                        3625   \n",
       "3                                         717   \n",
       "4                                         988   \n",
       "\n",
       "   Nutzwert je Hardware-Einheit (hoch=besser)  \n",
       "0                                          40  \n",
       "1                                          35  \n",
       "2                                          80  \n",
       "3                                          30  \n",
       "4                                          60  "
      ]
     },
     "execution_count": 19,
     "metadata": {},
     "output_type": "execute_result"
    }
   ],
   "source": [
    "df.head()"
   ]
  },
  {
   "cell_type": "code",
   "execution_count": 39,
   "metadata": {},
   "outputs": [],
   "source": [
    "products = list(df['Hardwarebenötigte '])"
   ]
  },
  {
   "cell_type": "code",
   "execution_count": 51,
   "metadata": {},
   "outputs": [],
   "source": [
    "weights = dict(\n",
    "    zip(products,df['Gewicht (mit Verpackung und Zubehör), in g'])\n",
    ")\n",
    "capacities = dict(zip(products, list(df['Anzahl Einheiten in Bonn'])))\n"
   ]
  },
  {
   "cell_type": "code",
   "execution_count": 41,
   "metadata": {},
   "outputs": [],
   "source": [
    "values = dict(zip(products,df['Nutzwert je Hardware-Einheit (hoch=besser)']))"
   ]
  },
  {
   "cell_type": "markdown",
   "metadata": {},
   "source": [
    "## Let's define the linear programmation problem"
   ]
  },
  {
   "cell_type": "code",
   "execution_count": 38,
   "metadata": {},
   "outputs": [],
   "source": [
    "prob = LpProblem(\"Problem\",LpMaximize)"
   ]
  },
  {
   "cell_type": "markdown",
   "metadata": {},
   "source": [
    "Here we define the problem varaibles: $x_{11}, \\dots ,x_{P1}, x_{12}, \\dots ,x_{P2} $ that correspond to the amount transported for product $p$ with the truck $t$ 1 or 2.\n",
    "the lower bound is set to zero because it is impossible to transport a negative amount of a product\n",
    "\n",
    "$\\forall p \\in products, t \\in \\{1, 2\\}, x_{pt}\\geq0$"
   ]
  },
  {
   "cell_type": "code",
   "execution_count": 42,
   "metadata": {},
   "outputs": [],
   "source": [
    "Transporter1 = LpVariable.dicts(\n",
    "    name='Transporter1', \n",
    "    indexs=products, \n",
    "    lowBound=0,\n",
    "    cat='Integer')\n",
    "\n",
    "Transporter2 = LpVariable.dicts(\n",
    "    name='Transporter2', \n",
    "    indexs=products, \n",
    "    lowBound=0,\n",
    "    cat='Integer')"
   ]
  },
  {
   "cell_type": "markdown",
   "metadata": {},
   "source": [
    "Here we define the objective function f to maximize\n",
    "$f =   \\sum_{p} v_p \\times (x_{p1} + x_{p2})$"
   ]
  },
  {
   "cell_type": "code",
   "execution_count": 44,
   "metadata": {},
   "outputs": [],
   "source": [
    "prob += lpSum([\n",
    "    values[p]*(Transporter1[p] + Transporter2[p]) for p in products\n",
    "]) #objective function"
   ]
  },
  {
   "cell_type": "markdown",
   "metadata": {},
   "source": [
    "here we define the upper bound of the capacities linked to the number of products there is in storage $s$ in Bonn\n",
    "\n",
    "$\\forall p \\in products, x_{p1}+x_{p2} \\leq s_p$"
   ]
  },
  {
   "cell_type": "code",
   "execution_count": 43,
   "metadata": {},
   "outputs": [],
   "source": [
    "for p in products:\n",
    "    prob += Transporter1[p]+Transporter2[p] <= capacities[p]"
   ]
  },
  {
   "cell_type": "markdown",
   "metadata": {},
   "source": [
    "we can define the constrains linked to the truck maximum weight capacity $C = 1100000 g$\n",
    "\n",
    "$\\sum_p w_p \\times x_p1 \\leq C - 72400$\n",
    "\n",
    "$\\sum_p w_p \\times x_p2 \\leq C - 85700$"
   ]
  },
  {
   "cell_type": "code",
   "execution_count": 45,
   "metadata": {},
   "outputs": [],
   "source": [
    "#the weight of the trucks limit\n",
    "prob += lpSum([weights[p]*Transporter1[p] for p in products])<=(1100*1000 - 72400)\n",
    "prob += lpSum([weights[p]*Transporter2[p] for p in products])<=(1100*1000 - 85700) "
   ]
  },
  {
   "cell_type": "code",
   "execution_count": 46,
   "metadata": {},
   "outputs": [
    {
     "data": {
      "text/plain": [
       "[Transporter1_Mobiltelefon_Büro_,\n",
       " Transporter1_Mobiltelefon_Heavy_Duty_,\n",
       " Transporter1_Mobiltelefon_Outdoor_,\n",
       " Transporter1_Notebook_Büro_13\"_,\n",
       " Transporter1_Notebook_Büro_14\"_,\n",
       " Transporter1_Notebook_outdoor_,\n",
       " Transporter1_Tablet_Büro_groß_,\n",
       " Transporter1_Tablet_Büro_klein_,\n",
       " Transporter1_Tablet_outdoor_groß_,\n",
       " Transporter1_Tablet_outdoor_klein_,\n",
       " Transporter2_Mobiltelefon_Büro_,\n",
       " Transporter2_Mobiltelefon_Heavy_Duty_,\n",
       " Transporter2_Mobiltelefon_Outdoor_,\n",
       " Transporter2_Notebook_Büro_13\"_,\n",
       " Transporter2_Notebook_Büro_14\"_,\n",
       " Transporter2_Notebook_outdoor_,\n",
       " Transporter2_Tablet_Büro_groß_,\n",
       " Transporter2_Tablet_Büro_klein_,\n",
       " Transporter2_Tablet_outdoor_groß_,\n",
       " Transporter2_Tablet_outdoor_klein_]"
      ]
     },
     "execution_count": 46,
     "metadata": {},
     "output_type": "execute_result"
    }
   ],
   "source": [
    "prob.writeLP(\"Problem.lp\")"
   ]
  },
  {
   "cell_type": "markdown",
   "metadata": {},
   "source": [
    "### Let's run the solver and see if an optimal feasable solution exists"
   ]
  },
  {
   "cell_type": "code",
   "execution_count": 53,
   "metadata": {},
   "outputs": [
    {
     "name": "stdout",
     "output_type": "stream",
     "text": [
      "Status: Optimal\n"
     ]
    }
   ],
   "source": [
    "prob.solve()\n",
    "print(\"Status:\", LpStatus[prob.status])"
   ]
  },
  {
   "cell_type": "code",
   "execution_count": 49,
   "metadata": {},
   "outputs": [
    {
     "name": "stdout",
     "output_type": "stream",
     "text": [
      "Therefore, the optimal usage value for only one drive is:\n",
      "\n",
      "\n",
      "Transporter1_Mobiltelefon_Büro_ = 52.0\n",
      "Transporter1_Mobiltelefon_Heavy_Duty_ = 220.0\n",
      "Transporter1_Tablet_Büro_klein_ = 509.0\n",
      "Transporter1_Tablet_outdoor_klein_ = 4.0\n",
      "Transporter2_Mobiltelefon_Büro_ = 8.0\n",
      "Transporter2_Mobiltelefon_Outdoor_ = 157.0\n",
      "Transporter2_Tablet_Büro_klein_ = 86.0\n",
      "Transporter2_Tablet_outdoor_groß_ = 370.0\n"
     ]
    }
   ],
   "source": [
    "print(\"Therefore, the optimal usage value for only one drive is:\\n\\n\")\n",
    "for v in prob.variables():\n",
    "    if v.varValue>0:\n",
    "        print(v.name, \"=\", v.varValue)"
   ]
  },
  {
   "cell_type": "code",
   "execution_count": 50,
   "metadata": {},
   "outputs": [
    {
     "name": "stdout",
     "output_type": "stream",
     "text": [
      "The total usage value of this drive is: 74660.0\n"
     ]
    }
   ],
   "source": [
    "print(\"The total usage value of this drive is: {}\".format(value(prob.objective)))"
   ]
  },
  {
   "cell_type": "code",
   "execution_count": null,
   "metadata": {},
   "outputs": [],
   "source": []
  }
 ],
 "metadata": {
  "kernelspec": {
   "display_name": "Python 3.6.9 64-bit",
   "language": "python",
   "name": "python36964bit0eac3114af1f4d188020e9f5b41e4f43"
  },
  "language_info": {
   "codemirror_mode": {
    "name": "ipython",
    "version": 3
   },
   "file_extension": ".py",
   "mimetype": "text/x-python",
   "name": "python",
   "nbconvert_exporter": "python",
   "pygments_lexer": "ipython3",
   "version": "3.6.9"
  }
 },
 "nbformat": 4,
 "nbformat_minor": 4
}
